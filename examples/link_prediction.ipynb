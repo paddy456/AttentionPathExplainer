{
 "cells": [
  {
   "cell_type": "code",
   "execution_count": null,
   "metadata": {},
   "outputs": [],
   "source": [
    "import sys\n",
    "sys.path.append('..')"
   ]
  },
  {
   "cell_type": "code",
   "execution_count": 2,
   "metadata": {},
   "outputs": [],
   "source": [
    "import explain_utils\n",
    "import explainer"
   ]
  },
  {
   "cell_type": "code",
   "execution_count": 3,
   "metadata": {},
   "outputs": [],
   "source": [
    "import numpy as np\n",
    "from sklearn.metrics import roc_auc_score\n",
    "import matplotlib.pyplot as plt\n",
    "\n",
    "import torch\n",
    "from torch import nn\n",
    "from torch_geometric.datasets import Planetoid\n",
    "import torch_geometric.transforms as T\n",
    "from torch_geometric.nn import GATConv\n",
    "from torch_geometric.utils import negative_sampling, train_test_split_edges, remove_self_loops, add_self_loops"
   ]
  },
  {
   "cell_type": "markdown",
   "metadata": {},
   "source": [
    "### Load data"
   ]
  },
  {
   "cell_type": "code",
   "execution_count": 4,
   "metadata": {},
   "outputs": [],
   "source": [
    "# dataset = 'Cora'\n",
    "dataset = 'Citeseer'\n",
    "dataset = Planetoid('data', dataset, transform=T.NormalizeFeatures())\n",
    "data = dataset[0]\n",
    "\n",
    "data.train_mask = data.val_mask = data.test_mask = data.y = None\n",
    "data = train_test_split_edges(data)"
   ]
  },
  {
   "cell_type": "markdown",
   "metadata": {},
   "source": [
    "### Build Model"
   ]
  },
  {
   "cell_type": "code",
   "execution_count": 5,
   "metadata": {},
   "outputs": [],
   "source": [
    "class Model(nn.Module):\n",
    "    def __init__(self, feature_num: int, hidden_size: int = 8, heads: int = 8, dropout: float = 0.5):\n",
    "        super().__init__()\n",
    "        self.dropout = dropout\n",
    "        self.conv1 = GATConv(feature_num, hidden_size, heads=heads, dropout=dropout)\n",
    "        self.conv2 = GATConv(hidden_size * heads, hidden_size, heads=heads, concat=True, dropout=dropout)\n",
    "        #self.conv3 = GATConv(hidden_size * heads, hidden_size, heads=heads, concat=True, dropout=dropout)\n",
    "\n",
    "    def forward(self, x, pos_edge_index, neg_edge_index):\n",
    "        attentions = []\n",
    "\n",
    "        x, (attn_edge_index, attention) = self.conv1(x, pos_edge_index, return_attention_weights=True)\n",
    "        attentions.append((attn_edge_index.detach(), attention.detach()))\n",
    "        x = nn.ReLU()(x)\n",
    "\n",
    "        x, (attn_edge_index, attention) = self.conv2(x, pos_edge_index, return_attention_weights=True)\n",
    "        attentions.append((attn_edge_index.detach(), attention.detach()))\n",
    "        x = nn.ReLU()(x)\n",
    "        \n",
    "#         x, (attn_edge_index, attention) = self.conv3(x, pos_edge_index, return_attention_weights=True)\n",
    "#         attentions.append((attn_edge_index.detach(), attention.detach()))\n",
    "#         x = nn.ReLU()(x)\n",
    "\n",
    "        edge_index = torch.cat([pos_edge_index, neg_edge_index], dim=-1)\n",
    "        x_j = torch.index_select(x, 0, edge_index[0])\n",
    "        x_i = torch.index_select(x, 0, edge_index[1])\n",
    "        logits = torch.einsum(\"ef,ef->e\", x_i, x_j)\n",
    "        \n",
    "        return logits, attentions"
   ]
  },
  {
   "cell_type": "markdown",
   "metadata": {},
   "source": [
    "### Train"
   ]
  },
  {
   "cell_type": "code",
   "execution_count": 6,
   "metadata": {},
   "outputs": [],
   "source": [
    "def gen_neg_samples(num_nodes, pos_edge_index, num_neg_samples=None):\n",
    "    raw_pos_edge_index = pos_edge_index\n",
    "    pos_edge_index, _ = remove_self_loops(pos_edge_index)\n",
    "    pos_edge_index, _ = add_self_loops(pos_edge_index, num_nodes=num_nodes)\n",
    "    num_neg_samples = num_neg_samples or raw_pos_edge_index.size(1)\n",
    "    return negative_sampling(edge_index=pos_edge_index, num_nodes=num_nodes, num_neg_samples=num_neg_samples)\n",
    "\n",
    "def gen_labels(pos_edge_index, neg_edge_index):\n",
    "    return torch.cat([\n",
    "        torch.ones(pos_edge_index.size(1)),\n",
    "        torch.zeros(neg_edge_index.size(1)),\n",
    "    ])"
   ]
  },
  {
   "cell_type": "code",
   "execution_count": 7,
   "metadata": {},
   "outputs": [],
   "source": [
    "def train(model, data, num_epochs, lr=0.01):\n",
    "    optimizer = torch.optim.Adam(params=model.parameters(), lr=0.01)\n",
    "    x, pos_edge_index = data.x, data.train_pos_edge_index\n",
    "\n",
    "    for epoch in range(1, num_epochs + 1):\n",
    "        model.train()\n",
    "        optimizer.zero_grad()\n",
    "        neg_edge_index = gen_neg_samples(data.num_nodes, pos_edge_index)\n",
    "        labels = gen_labels(pos_edge_index, neg_edge_index)\n",
    "\n",
    "        logits, _ = model(x, pos_edge_index, neg_edge_index)\n",
    "\n",
    "        pos_weight = torch.scalar_tensor(neg_edge_index.size(1) / pos_edge_index.size(1))\n",
    "        loss = nn.BCEWithLogitsLoss(pos_weight=pos_weight)(logits, labels)\n",
    "        loss.backward()\n",
    "        optimizer.step()\n",
    "        \n",
    "        # eval\n",
    "        if epoch % 10 == 0:\n",
    "            val_perf, test_perf = eval(model, data)\n",
    "            print(f'Epoch: {epoch}, Loss: {loss.item():.4f}, Val: {val_perf:.4f}, Test: {test_perf:.4f}')\n",
    "\n",
    "    return model\n",
    "\n",
    "@torch.no_grad()\n",
    "def eval(model, data):\n",
    "    model.eval()\n",
    "    perfs = []\n",
    "    for prefix in ['val', 'test']:\n",
    "        pos_edge_index = list(data(f'{prefix}_pos_edge_index'))[0][1]\n",
    "        neg_edge_index = list(data(f'{prefix}_neg_edge_index'))[0][1]\n",
    "        preds = torch.sigmoid(model(data.x, pos_edge_index, neg_edge_index)[0])\n",
    "        labels = gen_labels(pos_edge_index, neg_edge_index)\n",
    "        preds = preds.detach().cpu().numpy()\n",
    "        labels = labels.detach().cpu().numpy()\n",
    "        perfs.append(roc_auc_score(labels, preds))\n",
    "    return perfs"
   ]
  },
  {
   "cell_type": "code",
   "execution_count": 8,
   "metadata": {},
   "outputs": [
    {
     "name": "stderr",
     "output_type": "stream",
     "text": [
      "..\\aten\\src\\ATen\\native\\BinaryOps.cpp:81: UserWarning: Integer division of tensors using div or / is deprecated, and in a future release div will perform true division as in Python 3. Use true_divide or floor_divide (// in Python) instead.\n"
     ]
    },
    {
     "name": "stdout",
     "output_type": "stream",
     "text": [
      "Epoch: 10, Loss: 0.6405, Val: 0.7677, Test: 0.7746\n",
      "Epoch: 20, Loss: 0.6089, Val: 0.7835, Test: 0.7871\n",
      "Epoch: 30, Loss: 0.5976, Val: 0.8187, Test: 0.8208\n",
      "Epoch: 40, Loss: 0.5983, Val: 0.8402, Test: 0.8371\n",
      "Epoch: 50, Loss: 0.5920, Val: 0.8242, Test: 0.8224\n",
      "Epoch: 60, Loss: 0.5797, Val: 0.8288, Test: 0.8332\n",
      "Epoch: 70, Loss: 0.5790, Val: 0.8321, Test: 0.8339\n",
      "Epoch: 80, Loss: 0.5675, Val: 0.8451, Test: 0.8462\n",
      "Epoch: 90, Loss: 0.5688, Val: 0.8511, Test: 0.8423\n",
      "Epoch: 100, Loss: 0.5578, Val: 0.8447, Test: 0.8355\n",
      "Epoch: 110, Loss: 0.5636, Val: 0.8436, Test: 0.8326\n",
      "Epoch: 120, Loss: 0.5545, Val: 0.8364, Test: 0.8396\n",
      "Epoch: 130, Loss: 0.5536, Val: 0.8419, Test: 0.8417\n",
      "Epoch: 140, Loss: 0.5512, Val: 0.8415, Test: 0.8356\n",
      "Epoch: 150, Loss: 0.5444, Val: 0.8611, Test: 0.8498\n",
      "Epoch: 160, Loss: 0.5427, Val: 0.8744, Test: 0.8596\n",
      "Epoch: 170, Loss: 0.5309, Val: 0.8814, Test: 0.8645\n",
      "Epoch: 180, Loss: 0.5265, Val: 0.8852, Test: 0.8716\n",
      "Epoch: 190, Loss: 0.5278, Val: 0.8861, Test: 0.8702\n",
      "Epoch: 200, Loss: 0.5227, Val: 0.8973, Test: 0.8732\n"
     ]
    },
    {
     "data": {
      "text/plain": [
       "Model(\n",
       "  (conv1): GATConv(3703, 32, heads=2)\n",
       "  (conv2): GATConv(64, 32, heads=2)\n",
       ")"
      ]
     },
     "execution_count": 8,
     "metadata": {},
     "output_type": "execute_result"
    }
   ],
   "source": [
    "model = Model(dataset.num_node_features, hidden_size=32, heads=2, dropout=0.5)\n",
    "train(model, data, 200, lr=0.005)"
   ]
  },
  {
   "cell_type": "markdown",
   "metadata": {},
   "source": [
    "### Get Attentions"
   ]
  },
  {
   "cell_type": "code",
   "execution_count": 9,
   "metadata": {},
   "outputs": [],
   "source": [
    "model.eval()\n",
    "with torch.no_grad():\n",
    "    logits, attentions = model(data.x, data.train_pos_edge_index, torch.LongTensor([]))"
   ]
  },
  {
   "cell_type": "code",
   "execution_count": 10,
   "metadata": {},
   "outputs": [
    {
     "name": "stdout",
     "output_type": "stream",
     "text": [
      "======Layer 1======\n",
      "tensor(0.2896)\n",
      "tensor(0.0221)\n",
      "tensor(0.3006)\n",
      "tensor(0.1859)\n",
      "======Layer 2======\n",
      "tensor(0.2966)\n",
      "tensor(0.0080)\n",
      "tensor(0.3006)\n",
      "tensor(0.1858)\n"
     ]
    }
   ],
   "source": [
    "print('======Layer 1======')\n",
    "attn1 = attentions[0][1]\n",
    "print(attn1.min(-1)[0].mean())\n",
    "print((attn1.max(-1)[0] - attn1.min(-1)[0]).mean())\n",
    "print(attn1.mean(-1).mean())\n",
    "print(attn1.mean(-1).std())\n",
    "\n",
    "print('======Layer 2======')\n",
    "attn2 = attentions[1][1]\n",
    "print(attn2.min(-1)[0].mean())\n",
    "print((attn2.max(-1)[0] - attn2.min(-1)[0]).mean())\n",
    "print(attn2.mean(-1).mean())\n",
    "print(attn2.mean(-1).std())\n",
    "\n",
    "# print('======Layer 3======')\n",
    "# attn3 = attentions[2][1]\n",
    "# print(attn3.min(-1)[0].mean())\n",
    "# print((attn3.max(-1)[0] - attn3.min(-1)[0]).mean())\n",
    "# print(attn3.mean(-1).mean())\n",
    "# print(attn3.mean(-1).std())"
   ]
  },
  {
   "cell_type": "code",
   "execution_count": 11,
   "metadata": {},
   "outputs": [],
   "source": [
    "def get_attention_tensors(attentions):\n",
    "    ret = []\n",
    "    for edge_indices, attention_weights in attentions:\n",
    "        edge_indices = edge_indices.numpy().T\n",
    "        attention_weights = explain_utils.attention_weights_pooling(attention_weights.numpy(), 'mean')\n",
    "        ret.append((edge_indices, attention_weights))\n",
    "    return ret"
   ]
  },
  {
   "cell_type": "markdown",
   "metadata": {},
   "source": [
    "### Top paths cumlative importance"
   ]
  },
  {
   "cell_type": "code",
   "execution_count": 12,
   "metadata": {},
   "outputs": [
    {
     "name": "stderr",
     "output_type": "stream",
     "text": [
      "100%|██████████| 3327/3327 [00:00<00:00, 7720.59it/s]\n",
      "100%|██████████| 3327/3327 [00:00<00:00, 5615.37it/s]\n"
     ]
    },
    {
     "data": {
      "text/plain": [
       "[<matplotlib.lines.Line2D at 0x1ffd8fc66c8>]"
      ]
     },
     "execution_count": 12,
     "metadata": {},
     "output_type": "execute_result"
    },
    {
     "data": {
      "image/png": "[encoded data removed]",
      "text/plain": [
       "<Figure size 432x288 with 1 Axes>"
      ]
     },
     "metadata": {
      "needs_background": "light"
     },
     "output_type": "display_data"
    }
   ],
   "source": [
    "topk = 32\n",
    "top_path_scores = explain_utils.viterbi(get_attention_tensors(attentions), topk=topk)\n",
    "cum_imp = []\n",
    "for i, (node, path_scores) in enumerate(top_path_scores.items()):\n",
    "    #if i > 100:\n",
    "    #    break\n",
    "    #print(sum(top_scores[node]))\n",
    "    cum = []\n",
    "    for path, score in path_scores.items():\n",
    "        if cum:\n",
    "            cum.append(cum[-1] + score)\n",
    "        else:\n",
    "            cum.append(score)\n",
    "    cum += [1] * (topk - len(cum))\n",
    "    cum_imp.append(cum)\n",
    "    #    print(path, score)\n",
    "    #print()\n",
    "cum_imp = np.array(cum_imp)\n",
    "plt.plot(cum_imp.mean(0))"
   ]
  },
  {
   "cell_type": "markdown",
   "metadata": {},
   "source": [
    "### Top paths (remove duplicated) cumlative importance"
   ]
  },
  {
   "cell_type": "code",
   "execution_count": 13,
   "metadata": {},
   "outputs": [
    {
     "data": {
      "text/plain": [
       "[<matplotlib.lines.Line2D at 0x1ffd5710908>]"
      ]
     },
     "execution_count": 13,
     "metadata": {},
     "output_type": "execute_result"
    },
    {
     "data": {
      "image/png": "[encoded data removed]",
      "text/plain": [
       "<Figure size 864x288 with 2 Axes>"
      ]
     },
     "metadata": {
      "needs_background": "light"
     },
     "output_type": "display_data"
    }
   ],
   "source": [
    "cum_imp = []\n",
    "cum_node_cnt = []\n",
    "for i, (node, path_scores) in enumerate(top_path_scores.items()):\n",
    "    cum = []\n",
    "    cum2 = []\n",
    "    cum_nodes = set()\n",
    "    norm_scores = {}\n",
    "    for path, score in path_scores.items():\n",
    "        path = tuple(list(sorted(set(path))))\n",
    "        norm_scores[path] = norm_scores.get(path, 0) + score\n",
    "    norm_scores = list(sorted(list(norm_scores.items()), key=lambda _: _[1], reverse=True))\n",
    "    for path, score in norm_scores:\n",
    "        if cum:\n",
    "            cum.append(cum[-1] + score)\n",
    "        else:\n",
    "            cum.append(score)\n",
    "        cum_nodes |= set(path)\n",
    "        cum2.append(len(cum_nodes))\n",
    "    cum += [1] * (32 - len(cum))\n",
    "    cum2 += [cum2[-1]] * (32 - len(cum2))\n",
    "    cum_imp.append(cum)\n",
    "    cum_node_cnt.append(cum2)\n",
    "    #    print(path, score)\n",
    "    #print()\n",
    "cum_imp = np.array(cum_imp)\n",
    "cum_node_cnt = np.array(cum_node_cnt)\n",
    "\n",
    "plt.figure(figsize=(12,4))\n",
    "plt.subplot(1,2,1)\n",
    "plt.plot(cum_imp.mean(0))\n",
    "plt.subplot(1,2,2)\n",
    "plt.plot(cum_node_cnt.mean(0))"
   ]
  },
  {
   "cell_type": "markdown",
   "metadata": {},
   "source": [
    "### Explainer"
   ]
  },
  {
   "cell_type": "code",
   "execution_count": 14,
   "metadata": {},
   "outputs": [
    {
     "name": "stderr",
     "output_type": "stream",
     "text": [
      "100%|██████████| 3327/3327 [00:00<00:00, 7476.87it/s]\n",
      "100%|██████████| 3327/3327 [00:00<00:00, 5673.64it/s]\n"
     ]
    }
   ],
   "source": [
    "ex = explainer.LinkPredictionExplainer()\n",
    "ex.fit(get_attention_tensors(attentions), topk=16)"
   ]
  },
  {
   "cell_type": "code",
   "execution_count": 15,
   "metadata": {},
   "outputs": [
    {
     "name": "stdout",
     "output_type": "stream",
     "text": [
      "{(158, 1): 0.3578535420820117, (158, 1097): 0.061747439205646515, (158, 2919): 0.23063638992607594, (1, 486): 0.05133945122361183, (1, 1097): 0.04901326447725296, (1, 2919): 0.0753551535308361, (2919, 1587): 0.03472067043185234, (2919, 1575): 0.02755587175488472, (2919, 2404): 0.027398429811000824, (2919, 2478): 0.026657354086637497, (2919, 1358): 0.026613755151629448, (1097, 2933): 0.054872337728738785, (1097, 1467): 0.05670958757400513, (1097, 221): 0.05626809410750866, (1097, 2648): 0.054612262174487114, (2648, 1894): 0.014406955800950527, (1097, 559): 0.040115656331181526, (1097, 158): 0.04018017370253801, (2648, 1901): 0.013379917480051517, (559, 1570): 0.013164320029318333}\n"
     ]
    },
    {
     "data": {
      "image/png": "[encoded data removed]",
      "text/plain": [
       "<Figure size 720x504 with 1 Axes>"
      ]
     },
     "metadata": {},
     "output_type": "display_data"
    },
    {
     "data": {
      "text/plain": [
       "({158: OrderedDict([((158, 158, 158), 0.066224016),\n",
       "               ((1, 158, 158), 0.06535978),\n",
       "               ((1097, 158, 158), 0.06174744),\n",
       "               ((2919, 158, 158), 0.060919702),\n",
       "               ((1, 1, 158), 0.051848672),\n",
       "               ((158, 1, 158), 0.05135345),\n",
       "               ((486, 1, 158), 0.05133945),\n",
       "               ((1097, 1, 158), 0.049013264),\n",
       "               ((2919, 1, 158), 0.048355147),\n",
       "               ((1587, 2919, 158), 0.03472067),\n",
       "               ((1575, 2919, 158), 0.027555872),\n",
       "               ((2404, 2919, 158), 0.02739843),\n",
       "               ((1, 2919, 158), 0.027000006),\n",
       "               ((158, 2919, 158), 0.026770607),\n",
       "               ((2478, 2919, 158), 0.026657354),\n",
       "               ((1358, 2919, 158), 0.026613755)]),\n",
       "  1097: OrderedDict([((2933, 2933, 1097), 0.0300723),\n",
       "               ((1467, 1467, 1097), 0.028840136),\n",
       "               ((221, 221, 1097), 0.028616477),\n",
       "               ((1097, 1467, 1097), 0.027869452),\n",
       "               ((1097, 221, 1097), 0.027651617),\n",
       "               ((1097, 2933, 1097), 0.024800038),\n",
       "               ((1894, 2648, 1097), 0.014406956),\n",
       "               ((1097, 559, 1097), 0.013975275),\n",
       "               ((158, 158, 1097), 0.013763387),\n",
       "               ((1, 158, 1097), 0.013583771),\n",
       "               ((1097, 2648, 1097), 0.013430479),\n",
       "               ((2648, 2648, 1097), 0.01339491),\n",
       "               ((1901, 2648, 1097), 0.0133799175),\n",
       "               ((1570, 559, 1097), 0.01316432),\n",
       "               ((559, 559, 1097), 0.012976062),\n",
       "               ((1097, 158, 1097), 0.012833016)])},\n",
       " <visualize.Subgraph at 0x1ffd96363c8>)"
      ]
     },
     "execution_count": 15,
     "metadata": {},
     "output_type": "execute_result"
    }
   ],
   "source": [
    "ex.explain([158, 1097])"
   ]
  }
 ],
 "metadata": {
  "kernelspec": {
   "display_name": "Python 3",
   "language": "python",
   "name": "python3"
  },
  "language_info": {
   "codemirror_mode": {
    "name": "ipython",
    "version": 3
   },
   "file_extension": ".py",
   "mimetype": "text/x-python",
   "name": "python",
   "nbconvert_exporter": "python",
   "pygments_lexer": "ipython3",
   "version": "3.7.6"
  }
 },
 "nbformat": 4,
 "nbformat_minor": 4
}
