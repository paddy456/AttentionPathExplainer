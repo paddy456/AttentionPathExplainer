{
 "cells": [
  {
   "cell_type": "code",
   "execution_count": 1,
   "metadata": {},
   "outputs": [],
   "source": [
    "import sys\n",
    "sys.path.append('..')"
   ]
  },
  {
   "cell_type": "code",
   "execution_count": 2,
   "metadata": {},
   "outputs": [],
   "source": [
    "import explain_utils\n",
    "import explainer"
   ]
  },
  {
   "cell_type": "code",
   "execution_count": 3,
   "metadata": {},
   "outputs": [],
   "source": [
    "import numpy as np\n",
    "import matplotlib.pyplot as plt\n",
    "\n",
    "import torch\n",
    "from torch import nn\n",
    "from torch_geometric.datasets import Planetoid\n",
    "import torch_geometric.transforms as T\n",
    "from torch_geometric.nn import GATConv"
   ]
  },
  {
   "cell_type": "markdown",
   "metadata": {},
   "source": [
    "### Load data"
   ]
  },
  {
   "cell_type": "code",
   "execution_count": 4,
   "metadata": {},
   "outputs": [],
   "source": [
    "# dataset = 'Cora'\n",
    "dataset = 'Citeseer'\n",
    "dataset = Planetoid('data', dataset, transform=T.NormalizeFeatures())\n",
    "data = dataset[0]"
   ]
  },
  {
   "cell_type": "markdown",
   "metadata": {},
   "source": [
    "### Build Model"
   ]
  },
  {
   "cell_type": "code",
   "execution_count": 5,
   "metadata": {},
   "outputs": [],
   "source": [
    "class Model(nn.Module):\n",
    "    def __init__(self, feature_num: int, hidden_size: int = 8, heads: int = 8, dropout: float = 0.5):\n",
    "        super().__init__()\n",
    "        self.dropout = dropout\n",
    "        self.conv1 = GATConv(feature_num, hidden_size, heads=heads, dropout=dropout)\n",
    "        self.conv2 = GATConv(hidden_size * heads, hidden_size, heads=heads, concat=True, dropout=dropout)\n",
    "\n",
    "    def forward(self, x, edge_index):\n",
    "        attentions = []\n",
    "\n",
    "        x = nn.Dropout(p=self.dropout)(x)\n",
    "        x, (attn_edge_index, attn_weight) = self.conv1(x, edge_index, return_attention_weights=True)\n",
    "        attentions.append((attn_edge_index.detach(), attn_weight.detach()))\n",
    "        x = nn.ELU()(x)\n",
    "\n",
    "        x = nn.Dropout(p=self.dropout)(x)\n",
    "        x, (attn_edge_index, attn_weight) = self.conv2(x, edge_index, return_attention_weights=True)\n",
    "        attentions.append((attn_edge_index.detach(), attn_weight.detach()))\n",
    "\n",
    "        return nn.LogSoftmax(dim=1)(x), attentions"
   ]
  },
  {
   "cell_type": "code",
   "execution_count": 6,
   "metadata": {},
   "outputs": [],
   "source": [
    "model = Model(dataset.num_node_features, hidden_size=16, heads=4, dropout=0.3)"
   ]
  },
  {
   "cell_type": "markdown",
   "metadata": {},
   "source": [
    "### Train"
   ]
  },
  {
   "cell_type": "code",
   "execution_count": 7,
   "metadata": {},
   "outputs": [],
   "source": [
    "@torch.no_grad()\n",
    "def eval(model, data):\n",
    "    model.eval()\n",
    "    (logits, _), accs = model(data.x, data.edge_index), []\n",
    "    for _, mask in data('train_mask', 'val_mask', 'test_mask'):\n",
    "        pred = logits[mask].max(1)[1]\n",
    "        acc = pred.eq(data.y[mask]).sum().item() / mask.sum().item()\n",
    "        accs.append(acc)\n",
    "    return accs\n",
    "\n",
    "def train(model, data, num_epochs, lr=0.005):\n",
    "    optimizer = torch.optim.Adam(model.parameters(), lr=lr, weight_decay=5e-4)\n",
    "    for epoch in range(1, num_epochs + 1):\n",
    "        model.train()\n",
    "        optimizer.zero_grad()\n",
    "        logits, attentions = model(data.x, data.edge_index)\n",
    "        loss = nn.NLLLoss()(logits[data.train_mask], data.y[data.train_mask])\n",
    "        loss.backward()\n",
    "        optimizer.step()\n",
    "        if epoch % 10 == 0:\n",
    "            train_acc, val_acc, test_acc = eval(model, data)\n",
    "            print(f'Epoch: {epoch}, train loss: {loss.item():.4f}, train acc: {train_acc:4f}, Val: {val_acc:.4f}, Test: {test_acc:.4f}')"
   ]
  },
  {
   "cell_type": "code",
   "execution_count": 8,
   "metadata": {},
   "outputs": [
    {
     "name": "stdout",
     "output_type": "stream",
     "text": [
      "Epoch: 10, train loss: 2.9152, train acc: 0.300000, Val: 0.1840, Test: 0.1690\n",
      "Epoch: 20, train loss: 1.9885, train acc: 0.458333, Val: 0.2840, Test: 0.2760\n",
      "Epoch: 30, train loss: 1.8140, train acc: 0.416667, Val: 0.3500, Test: 0.3410\n",
      "Epoch: 40, train loss: 1.6574, train acc: 0.608333, Val: 0.3260, Test: 0.3410\n",
      "Epoch: 50, train loss: 1.7052, train acc: 0.608333, Val: 0.4000, Test: 0.3590\n",
      "Epoch: 60, train loss: 1.5668, train acc: 0.608333, Val: 0.4560, Test: 0.4540\n",
      "Epoch: 70, train loss: 1.6543, train acc: 0.741667, Val: 0.4640, Test: 0.4510\n",
      "Epoch: 80, train loss: 1.4092, train acc: 0.783333, Val: 0.5680, Test: 0.5150\n",
      "Epoch: 90, train loss: 1.3152, train acc: 0.833333, Val: 0.5420, Test: 0.5290\n",
      "Epoch: 100, train loss: 1.2421, train acc: 0.808333, Val: 0.5820, Test: 0.5790\n",
      "Epoch: 110, train loss: 1.1962, train acc: 0.875000, Val: 0.5760, Test: 0.5680\n",
      "Epoch: 120, train loss: 1.1397, train acc: 0.891667, Val: 0.5940, Test: 0.5930\n",
      "Epoch: 130, train loss: 1.3202, train acc: 0.908333, Val: 0.5840, Test: 0.6150\n",
      "Epoch: 140, train loss: 1.0223, train acc: 0.891667, Val: 0.5980, Test: 0.6290\n",
      "Epoch: 150, train loss: 1.0176, train acc: 0.908333, Val: 0.6400, Test: 0.6130\n",
      "Epoch: 160, train loss: 0.9894, train acc: 0.950000, Val: 0.6420, Test: 0.6450\n",
      "Epoch: 170, train loss: 0.9057, train acc: 0.933333, Val: 0.6400, Test: 0.6140\n",
      "Epoch: 180, train loss: 0.9048, train acc: 0.933333, Val: 0.6320, Test: 0.6610\n",
      "Epoch: 190, train loss: 0.9108, train acc: 0.933333, Val: 0.6020, Test: 0.6130\n",
      "Epoch: 200, train loss: 0.8879, train acc: 0.950000, Val: 0.6320, Test: 0.6390\n",
      "Epoch: 210, train loss: 0.8891, train acc: 0.941667, Val: 0.6360, Test: 0.6610\n",
      "Epoch: 220, train loss: 0.8005, train acc: 0.941667, Val: 0.6340, Test: 0.6360\n",
      "Epoch: 230, train loss: 0.7965, train acc: 0.950000, Val: 0.6480, Test: 0.6640\n",
      "Epoch: 240, train loss: 0.6687, train acc: 0.950000, Val: 0.6520, Test: 0.6460\n",
      "Epoch: 250, train loss: 0.8962, train acc: 0.966667, Val: 0.6460, Test: 0.6260\n",
      "Epoch: 260, train loss: 0.7769, train acc: 0.950000, Val: 0.6700, Test: 0.6740\n",
      "Epoch: 270, train loss: 0.8341, train acc: 0.941667, Val: 0.6540, Test: 0.6480\n",
      "Epoch: 280, train loss: 0.7337, train acc: 0.950000, Val: 0.6620, Test: 0.6790\n",
      "Epoch: 290, train loss: 0.7774, train acc: 0.966667, Val: 0.6460, Test: 0.6600\n",
      "Epoch: 300, train loss: 0.7058, train acc: 0.958333, Val: 0.6400, Test: 0.6260\n",
      "Epoch: 310, train loss: 0.7190, train acc: 0.991667, Val: 0.6540, Test: 0.6640\n",
      "Epoch: 320, train loss: 0.6630, train acc: 0.958333, Val: 0.6460, Test: 0.6730\n",
      "Epoch: 330, train loss: 0.6869, train acc: 0.983333, Val: 0.6640, Test: 0.6470\n",
      "Epoch: 340, train loss: 0.6714, train acc: 0.983333, Val: 0.6400, Test: 0.6770\n",
      "Epoch: 350, train loss: 0.6706, train acc: 0.975000, Val: 0.6620, Test: 0.6600\n",
      "Epoch: 360, train loss: 0.7207, train acc: 0.975000, Val: 0.6520, Test: 0.6570\n",
      "Epoch: 370, train loss: 0.7095, train acc: 0.958333, Val: 0.6700, Test: 0.6800\n",
      "Epoch: 380, train loss: 0.6733, train acc: 0.975000, Val: 0.6460, Test: 0.6700\n",
      "Epoch: 390, train loss: 0.5265, train acc: 0.975000, Val: 0.6520, Test: 0.6680\n",
      "Epoch: 400, train loss: 0.6333, train acc: 0.966667, Val: 0.6620, Test: 0.6680\n"
     ]
    }
   ],
   "source": [
    "model = Model(dataset.num_node_features, hidden_size=16, heads=4, dropout=0.5)\n",
    "train(model, data, 400, lr=0.01)"
   ]
  },
  {
   "cell_type": "markdown",
   "metadata": {},
   "source": [
    "### Get Attentions"
   ]
  },
  {
   "cell_type": "code",
   "execution_count": 9,
   "metadata": {},
   "outputs": [],
   "source": [
    "model.eval()\n",
    "with torch.no_grad():\n",
    "    logits, attentions = model(data.x, data.edge_index)"
   ]
  },
  {
   "cell_type": "code",
   "execution_count": 10,
   "metadata": {},
   "outputs": [
    {
     "name": "stdout",
     "output_type": "stream",
     "text": [
      "======Layer 1======\n",
      "tensor(0.2463)\n",
      "tensor(0.0437)\n",
      "tensor(0.2676)\n",
      "tensor(0.1581)\n",
      "======Layer 2======\n",
      "tensor(0.2631)\n",
      "tensor(0.0090)\n",
      "tensor(0.2676)\n",
      "tensor(0.1570)\n"
     ]
    }
   ],
   "source": [
    "print('======Layer 1======')\n",
    "attn1 = attentions[0][1]\n",
    "print(attn1.min(-1)[0].mean())\n",
    "print((attn1.max(-1)[0] - attn1.min(-1)[0]).mean())\n",
    "print(attn1.mean(-1).mean())\n",
    "print(attn1.mean(-1).std())\n",
    "\n",
    "print('======Layer 2======')\n",
    "attn2 = attentions[1][1]\n",
    "print(attn2.min(-1)[0].mean())\n",
    "print((attn2.max(-1)[0] - attn2.min(-1)[0]).mean())\n",
    "print(attn2.mean(-1).mean())\n",
    "print(attn2.mean(-1).std())"
   ]
  },
  {
   "cell_type": "code",
   "execution_count": 11,
   "metadata": {},
   "outputs": [],
   "source": [
    "def get_attention_tensors(attentions):\n",
    "    ret = []\n",
    "    for edge_indices, attention_weights in attentions:\n",
    "        edge_indices = edge_indices.numpy().T\n",
    "        attention_weights = explain_utils.attention_weights_pooling(attention_weights.numpy(), 'mean')\n",
    "        ret.append((edge_indices, attention_weights))\n",
    "    return ret"
   ]
  },
  {
   "cell_type": "markdown",
   "metadata": {},
   "source": [
    "### Top paths cumlative importance"
   ]
  },
  {
   "cell_type": "code",
   "execution_count": 12,
   "metadata": {},
   "outputs": [
    {
     "name": "stderr",
     "output_type": "stream",
     "text": [
      "100%|██████████| 3327/3327 [00:00<00:00, 11483.05it/s]\n",
      "100%|██████████| 3327/3327 [00:00<00:00, 9214.84it/s]\n"
     ]
    },
    {
     "data": {
      "text/plain": [
       "[<matplotlib.lines.Line2D at 0x2278b47e688>]"
      ]
     },
     "execution_count": 12,
     "metadata": {},
     "output_type": "execute_result"
    },
    {
     "data": {
      "image/png": "[encoded data removed]",
      "text/plain": [
       "<Figure size 432x288 with 1 Axes>"
      ]
     },
     "metadata": {
      "needs_background": "light"
     },
     "output_type": "display_data"
    }
   ],
   "source": [
    "topk = 32\n",
    "top_path_scores = explain_utils.viterbi(get_attention_tensors(attentions), topk=topk)\n",
    "cum_imp = []\n",
    "for i, (node, path_scores) in enumerate(top_path_scores.items()):\n",
    "    #if i > 100:\n",
    "    #    break\n",
    "    #print(sum(top_scores[node]))\n",
    "    cum = []\n",
    "    for path, score in path_scores.items():\n",
    "        if cum:\n",
    "            cum.append(cum[-1] + score)\n",
    "        else:\n",
    "            cum.append(score)\n",
    "    cum += [1] * (topk - len(cum))\n",
    "    cum_imp.append(cum)\n",
    "    #    print(path, score)\n",
    "    #print()\n",
    "cum_imp = np.array(cum_imp)\n",
    "plt.plot(cum_imp.mean(0))"
   ]
  },
  {
   "cell_type": "markdown",
   "metadata": {},
   "source": [
    "### Top paths (remove duplicated) cumlative importance"
   ]
  },
  {
   "cell_type": "code",
   "execution_count": 13,
   "metadata": {},
   "outputs": [
    {
     "data": {
      "text/plain": [
       "[<matplotlib.lines.Line2D at 0x227fd4fc408>]"
      ]
     },
     "execution_count": 13,
     "metadata": {},
     "output_type": "execute_result"
    },
    {
     "data": {
      "image/png": "[encoded data removed]",
      "text/plain": [
       "<Figure size 864x288 with 2 Axes>"
      ]
     },
     "metadata": {
      "needs_background": "light"
     },
     "output_type": "display_data"
    }
   ],
   "source": [
    "cum_imp = []\n",
    "cum_node_cnt = []\n",
    "for i, (node, path_scores) in enumerate(top_path_scores.items()):\n",
    "    cum = []\n",
    "    cum2 = []\n",
    "    cum_nodes = set()\n",
    "    norm_scores = {}\n",
    "    for path, score in path_scores.items():\n",
    "        path = tuple(list(sorted(set(path))))\n",
    "        norm_scores[path] = norm_scores.get(path, 0) + score\n",
    "    norm_scores = list(sorted(list(norm_scores.items()), key=lambda _: _[1], reverse=True))\n",
    "    for path, score in norm_scores:\n",
    "        if cum:\n",
    "            cum.append(cum[-1] + score)\n",
    "        else:\n",
    "            cum.append(score)\n",
    "        cum_nodes |= set(path)\n",
    "        cum2.append(len(cum_nodes))\n",
    "    cum += [1] * (32 - len(cum))\n",
    "    cum2 += [cum2[-1]] * (32 - len(cum2))\n",
    "    cum_imp.append(cum)\n",
    "    cum_node_cnt.append(cum2)\n",
    "    #    print(path, score)\n",
    "    #print()\n",
    "cum_imp = np.array(cum_imp)\n",
    "cum_node_cnt = np.array(cum_node_cnt)\n",
    "\n",
    "plt.figure(figsize=(12,4))\n",
    "plt.subplot(1,2,1)\n",
    "plt.plot(cum_imp.mean(0))\n",
    "plt.subplot(1,2,2)\n",
    "plt.plot(cum_node_cnt.mean(0))"
   ]
  },
  {
   "cell_type": "markdown",
   "metadata": {},
   "source": [
    "### Explainer"
   ]
  },
  {
   "cell_type": "code",
   "execution_count": 14,
   "metadata": {},
   "outputs": [
    {
     "name": "stderr",
     "output_type": "stream",
     "text": [
      "100%|██████████| 3327/3327 [00:00<00:00, 13755.98it/s]\n",
      "100%|██████████| 3327/3327 [00:00<00:00, 10002.52it/s]\n"
     ]
    }
   ],
   "source": [
    "ex = explainer.NodeClassificationExplainer()\n",
    "ex.fit(get_attention_tensors(attentions), topk=16)"
   ]
  },
  {
   "cell_type": "code",
   "execution_count": 15,
   "metadata": {},
   "outputs": [
    {
     "data": {
      "image/png": "[encoded data removed]",
      "text/plain": [
       "<Figure size 720x504 with 1 Axes>"
      ]
     },
     "metadata": {},
     "output_type": "display_data"
    },
    {
     "data": {
      "text/plain": [
       "(OrderedDict([((1, 2933, 1), 0.05705332),\n",
       "              ((2933, 2933, 1), 0.054213725),\n",
       "              ((1097, 2933, 1), 0.0531037),\n",
       "              ((158, 158, 1), 0.04789295),\n",
       "              ((2919, 158, 1), 0.045483362),\n",
       "              ((1, 158, 1), 0.041688442),\n",
       "              ((1097, 158, 1), 0.03858503),\n",
       "              ((158, 1, 1), 0.032531757),\n",
       "              ((2919, 1, 1), 0.030790038),\n",
       "              ((486, 1, 1), 0.028803866),\n",
       "              ((1, 1, 1), 0.028707761),\n",
       "              ((2933, 1, 1), 0.02667225),\n",
       "              ((1097, 1, 1), 0.02599844),\n",
       "              ((158, 2919, 1), 0.020759681),\n",
       "              ((2919, 2919, 1), 0.019572424),\n",
       "              ((1575, 2919, 1), 0.018330373)]),\n",
       " <networkx.classes.graph.Graph at 0x22795b48e48>)"
      ]
     },
     "execution_count": 15,
     "metadata": {},
     "output_type": "execute_result"
    }
   ],
   "source": [
    "ex.explain(1)"
   ]
  },
  {
   "cell_type": "code",
   "execution_count": null,
   "metadata": {},
   "outputs": [],
   "source": []
  }
 ],
 "metadata": {
  "kernelspec": {
   "display_name": "Python 3",
   "language": "python",
   "name": "python3"
  },
  "language_info": {
   "codemirror_mode": {
    "name": "ipython",
    "version": 3
   },
   "file_extension": ".py",
   "mimetype": "text/x-python",
   "name": "python",
   "nbconvert_exporter": "python",
   "pygments_lexer": "ipython3",
   "version": "3.7.6"
  }
 },
 "nbformat": 4,
 "nbformat_minor": 4
}
